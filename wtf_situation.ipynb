{
 "cells": [
  {
   "cell_type": "code",
   "execution_count": 1,
   "metadata": {
    "collapsed": true
   },
   "outputs": [],
   "source": [
    "import json"
   ]
  },
  {
   "cell_type": "code",
   "execution_count": 95,
   "metadata": {},
   "outputs": [
    {
     "data": {
      "text/plain": [
       "[{'domain': '', 'ip': '', 'status': ''},\n",
       " {'domain': '', 'ip': '', 'status': ''},\n",
       " {'domain': '', 'ip': '', 'status': ''},\n",
       " {'domain': '', 'ip': '', 'status': ''},\n",
       " {'domain': '', 'ip': '', 'status': ''}]"
      ]
     },
     "execution_count": 95,
     "metadata": {},
     "output_type": "execute_result"
    }
   ],
   "source": [
    "d_list = ['aaa.com', 'bbb.com', 'ccc.com', 'ddd.com', 'eee.com']\n",
    "i_list = ['1.1.1.1', '1.1.1.2', '1.1.1.3', '1.1.1.4', '1.1.1.5']\n",
    "s_list = [None] * 5\n",
    "\n",
    "\n",
    "data_using_mul = [\n",
    "    {\n",
    "        'domain' : '',\n",
    "        'ip'     : '',\n",
    "        'status' : '',\n",
    "    } \n",
    "] * 5\n",
    "\n",
    "\n",
    "data_using_mul"
   ]
  },
  {
   "cell_type": "code",
   "execution_count": 96,
   "metadata": {},
   "outputs": [
    {
     "data": {
      "text/plain": [
       "[{'domain': '', 'ip': '', 'status': ''},\n",
       " {'domain': '', 'ip': '', 'status': ''},\n",
       " {'domain': '', 'ip': '', 'status': ''},\n",
       " {'domain': '', 'ip': '', 'status': ''},\n",
       " {'domain': '', 'ip': '', 'status': ''}]"
      ]
     },
     "execution_count": 96,
     "metadata": {},
     "output_type": "execute_result"
    }
   ],
   "source": [
    "d_list = ['aaa.com', 'bbb.com', 'ccc.com', 'ddd.com', 'eee.com']\n",
    "i_list = ['1.1.1.1', '1.1.1.2', '1.1.1.3', '1.1.1.4', '1.1.1.5']\n",
    "s_list = [None] * 5\n",
    "\n",
    "\n",
    "data_using_hardcoding = [\n",
    "    {\n",
    "        'domain' : '',\n",
    "        'ip'     : '',\n",
    "        'status' : '',\n",
    "    },\n",
    "    {\n",
    "        'domain' : '',\n",
    "        'ip'     : '',\n",
    "        'status' : '',\n",
    "    },\n",
    "    {\n",
    "        'domain' : '',\n",
    "        'ip'     : '',\n",
    "        'status' : '',\n",
    "    },\n",
    "    {\n",
    "        'domain' : '',\n",
    "        'ip'     : '',\n",
    "        'status' : '',\n",
    "    },\n",
    "    {\n",
    "        'domain' : '',\n",
    "        'ip'     : '',\n",
    "        'status' : '',\n",
    "    },\n",
    "]\n",
    "\n",
    "\n",
    "data_using_hardcoding"
   ]
  },
  {
   "cell_type": "code",
   "execution_count": 98,
   "metadata": {},
   "outputs": [
    {
     "name": "stdout",
     "output_type": "stream",
     "text": [
      "{'domain': 1, 'status': '', 'ip': ''}\n",
      "{'domain': 2, 'status': '', 'ip': ''}\n",
      "{'domain': 3, 'status': '', 'ip': ''}\n",
      "{'domain': 4, 'status': '', 'ip': ''}\n",
      "{'domain': 5, 'status': '', 'ip': ''}\n"
     ]
    }
   ],
   "source": [
    "data_using_hardcoding[0][\"domain\"] = 1\n",
    "data_using_hardcoding[1][\"domain\"] = 2\n",
    "data_using_hardcoding[2][\"domain\"] = 3\n",
    "data_using_hardcoding[3][\"domain\"] = 4\n",
    "data_using_hardcoding[4][\"domain\"] = 5\n",
    "\n",
    "print(data_using_hardcoding[0])\n",
    "print(data_using_hardcoding[1])\n",
    "print(data_using_hardcoding[2])\n",
    "print(data_using_hardcoding[3])\n",
    "print(data_using_hardcoding[4])\n"
   ]
  },
  {
   "cell_type": "code",
   "execution_count": 101,
   "metadata": {},
   "outputs": [
    {
     "name": "stdout",
     "output_type": "stream",
     "text": [
      "5\n",
      "5\n",
      "5\n",
      "5\n",
      "5\n"
     ]
    }
   ],
   "source": [
    "data_using_mul[0][\"domain\"] = 1\n",
    "data_using_mul[1][\"domain\"] = 2\n",
    "data_using_mul[2][\"domain\"] = 3\n",
    "data_using_mul[3][\"domain\"] = 4\n",
    "data_using_mul[4][\"domain\"] = 5\n",
    "\n",
    "print(data_using_mul[0][\"domain\"])\n",
    "print(data_using_mul[1][\"domain\"])\n",
    "print(data_using_mul[2][\"domain\"])\n",
    "print(data_using_mul[3][\"domain\"])\n",
    "print(data_using_mul[4][\"domain\"])\n"
   ]
  },
  {
   "cell_type": "code",
   "execution_count": null,
   "metadata": {
    "collapsed": true
   },
   "outputs": [],
   "source": []
  }
 ],
 "metadata": {
  "kernelspec": {
   "display_name": "Python 3",
   "language": "python",
   "name": "python3"
  },
  "language_info": {
   "codemirror_mode": {
    "name": "ipython",
    "version": 3
   },
   "file_extension": ".py",
   "mimetype": "text/x-python",
   "name": "python",
   "nbconvert_exporter": "python",
   "pygments_lexer": "ipython3",
   "version": "3.4.3"
  }
 },
 "nbformat": 4,
 "nbformat_minor": 2
}
